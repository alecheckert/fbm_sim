{
 "cells": [
  {
   "cell_type": "markdown",
   "metadata": {},
   "source": [
    "### Riemann-Liouville FBMs in `fbm_sim`\n",
    "\n",
    "In `fbm_sim`, a Riemann-Liouville FBM with Hurst parameter $H$ is defined as a Gaussian process $X_{t}$ with one of two covariance functions:\n",
    "\n",
    "\\begin{align*}\n",
    "    \\mathbb{E} \\left[ X_{t} X_{s} \\right] &= D \\left( \\left| t \\right|^{2H} + \\left| s \\right|^{2H} - \\left| t - s \\right|^{2H} \\right) \\qquad &\\text{kind 1} \\\\\n",
    "    \\mathbb{E} \\left[ X_{t} X_{s} \\right] &= \\left( \\left| D t \\right|^{2H} + \\left| D s \\right|^{2H} - \\left| D (t - s) \\right|^{2H} \\right) \\qquad &\\text{kind 2}\n",
    "\\end{align*}\n",
    "\n",
    "These two covariance functions differ in the way that the diffusion coefficient $D$ is parameterized. In the first kind, when simulating FBMs at short timescales ($t << 1$), the magnitude of $D$ is strongly dependent on $H$. Practically, this can be a problem for numerical fitting routines.\n",
    "\n",
    "In the second kind, the diffusion coefficient exhibits less dependence on the value of $H$. The kind of FBM simulated can be set with the `D_kind` parameter for the `fbm.FractionalBrownianMotion` object.\n",
    "\n",
    "As a result of this definition, when $H=0.5$, the covariance function recovers the mean squared displacement of a regular Brownian motion with diffusion coefficient $D$:\n",
    "\n",
    "\\begin{equation}\n",
    "    \\mathbb{E} \\left[ X_{t}^{2} \\right] = 2 D t \\qquad \\text{(when  } H=0.5 \\text{)},\n",
    "\\end{equation}\n",
    "\n",
    "leading to the familiar PDF for the Brownian motion increments:\n",
    "\n",
    "\\begin{equation}\n",
    "    f_{X_{t}-X_{s}}(x) = \\frac{1}{\\sqrt{4 \\pi D (t-s)}} e^{- \\frac{x^{2}}{4 D (t-s)}}, \\qquad x \\in \\mathcal{R}\n",
    "\\end{equation}\n",
    "\n",
    "### Simulation method\n",
    "\n",
    "Suppose we have an FBM that starts at the origin. Its position is then measured at the end of $n$ intervals of length $\\Delta t$. According to the covariance function above, we generate a covariance matrix $\\Sigma$:\n",
    "   \n",
    "\\begin{equation}\n",
    "    \\Sigma_{i,j} = \\begin{cases}\n",
    "        D \\left( \\left| i \\Delta t \\right|^{2H} + \\left| j \\Delta t \\right|^{2H} - \\left| (i-j) \\Delta t \\right|^{2H} \\right) \\qquad \\text{(if kind 1)} \\\\\n",
    "        \\left( \\left| i D \\Delta t \\right|^{2H} + \\left| j D \\Delta t \\right|^{2H} - \\left| (i-j) D \\Delta t \\right|^{2H} \\right) \\qquad \\text{(if kind 2)} \\\\\n",
    "    \\end{cases}\n",
    "\\end{equation}\n",
    "\n",
    "We then find the Cholesky decomposition $\\Sigma = C C^{T}$. An FBM trajectory $\\vec{x}$ is approximated by drawing a standard multivariate normal random variable $\\vec{v}$ (mean zero, covariance $I$) of length $n$, then taking\n",
    "\n",
    "\\begin{equation}\n",
    "    \\vec{x} = C \\vec{v}\n",
    "\\end{equation}\n",
    "\n"
   ]
  },
  {
   "cell_type": "code",
   "execution_count": null,
   "metadata": {},
   "outputs": [],
   "source": []
  }
 ],
 "metadata": {
  "kernelspec": {
   "display_name": "Python 3",
   "language": "python",
   "name": "python3"
  },
  "language_info": {
   "codemirror_mode": {
    "name": "ipython",
    "version": 3
   },
   "file_extension": ".py",
   "mimetype": "text/x-python",
   "name": "python",
   "nbconvert_exporter": "python",
   "pygments_lexer": "ipython3",
   "version": "3.6.6"
  }
 },
 "nbformat": 4,
 "nbformat_minor": 4
}
